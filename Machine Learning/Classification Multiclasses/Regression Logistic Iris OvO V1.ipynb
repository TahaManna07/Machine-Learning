{
 "cells": [
  {
   "cell_type": "code",
   "execution_count": 1,
   "id": "8f393184",
   "metadata": {},
   "outputs": [],
   "source": [
    "import numpy as np\n",
    "import pandas as pd\n",
    "import matplotlib.pyplot as plt\n",
    "import seaborn as sns\n",
    "\n",
    "from sklearn.model_selection import train_test_split\n",
    "from sklearn.metrics import confusion_matrix\n",
    "from sklearn.metrics import accuracy_score\n",
    "\n",
    "\n",
    "from sklearn.preprocessing import LabelEncoder\n",
    "from mpl_toolkits.mplot3d import Axes3D"
   ]
  },
  {
   "cell_type": "code",
   "execution_count": 2,
   "id": "b566c8a0",
   "metadata": {},
   "outputs": [],
   "source": [
    "# La fonction sigmoide\n",
    "def sigmoid(x):\n",
    "    return 1 / (1 + np.exp(-x))\n",
    "\n",
    "import numpy as np\n",
    "import pandas as pd\n",
    "import matplotlib.pyplot as plt\n",
    "from sklearn.model_selection import train_test_split\n",
    "\n",
    "# La fonction sigmoide\n",
    "def sigmoid(x):\n",
    "    return 1 / (1 + np.exp(-x))\n",
    "\n",
    "# Initialisation\n",
    "def initialisation(X, num_classes):\n",
    "    W = np.random.randn(X.shape[1], num_classes)\n",
    "    b = np.random.randn(num_classes)\n",
    "    return W, b\n",
    "\n",
    "# Modèle\n",
    "def modele(X, W, b):\n",
    "    Z = X.dot(W) + b\n",
    "    A = sigmoid(Z)\n",
    "    return A\n",
    "\n",
    "# Fonction Coût pour la classification binaire\n",
    "def log_loss_binary(y, A):\n",
    "    return 1/len(y) * np.sum(-y * np.log(A) - (1 - y) * np.log(1 - A))\n",
    "\n",
    "# Gradients pour la classification binaire\n",
    "def gradients_binary(X, A, y):\n",
    "    dW = 1/len(y) * np.dot(X.T, A - y)\n",
    "    db = 1/len(y) * np.sum(A - y)\n",
    "    return dW, db\n",
    "\n",
    "# Optimisation pour la classification binaire\n",
    "def optimisation_binary(X, W, b, A, y, learning_rate):\n",
    "    dW, db = gradients_binary(X, A, y)\n",
    "    W = W - learning_rate * dW\n",
    "    b = b - learning_rate * db\n",
    "    return W, b\n",
    "\n",
    "def train_multiclass_model(X, y, num_classes, learning_rate=0.1, n_iter=10000):\n",
    "    # Initialisation des poids W et du biais b\n",
    "    W, b = initialisation(X, num_classes)\n",
    "    \n",
    "    # Initialisation d'un dictionnaire pour stocker l'historique des erreurs pour chaque classe\n",
    "    loss_history = {c: [] for c in range(num_classes)}\n",
    "\n",
    "    # Boucle sur le nombre d'itérations\n",
    "    for i in range(n_iter):\n",
    "        # Boucle sur chaque classe\n",
    "        for c in range(num_classes):\n",
    "            # Conversion des étiquettes en binaire (classe vs. non-classe)\n",
    "            y_binary = (y == c).astype(int)\n",
    "            \n",
    "            # Calcul de la prédiction (probabilité) pour la classe c\n",
    "            A = modele(X, W[:, c], b[c])\n",
    "            \n",
    "            # Calcul de la perte (log loss) pour la classe c\n",
    "            loss = log_loss_binary(y_binary, A)\n",
    "            \n",
    "            # Calcul des gradients pour la classe c\n",
    "            dW, db = gradients_binary(X, A, y_binary)\n",
    "            \n",
    "            # Mise à jour des poids W et du biais b pour la classe c\n",
    "            W[:, c] = W[:, c] - learning_rate * dW\n",
    "            b[c] = b[c] - learning_rate * db\n",
    "            \n",
    "            # Enregistrement de l'erreur dans l'historique\n",
    "            loss_history[c].append(loss)\n",
    "\n",
    "    # Tracé de l'évolution de l'erreur pour chaque classe\n",
    "    for c in range(num_classes):\n",
    "        plt.plot(loss_history[c], label=f'Model for Class {c}')\n",
    "\n",
    "    plt.xlabel('n_iteration')\n",
    "    plt.ylabel('Log_loss')\n",
    "    plt.title('Evolution des erreurs')\n",
    "    plt.legend()\n",
    "    plt.show()\n",
    "\n",
    "    return W, b\n",
    "\n",
    "\n",
    "# Prédiction des probabilités\n",
    "def predict(X, W, b):\n",
    "    Z = X.dot(W) + b # o(1)\n",
    "    A = sigmoid(Z)\n",
    "    return A"
   ]
  },
  {
   "cell_type": "code",
   "execution_count": 3,
   "id": "4974dd6f",
   "metadata": {},
   "outputs": [],
   "source": [
    "# Chargement des données\n",
    "dataset = pd.read_csv(\"iris.csv\")\n"
   ]
  },
  {
   "cell_type": "code",
   "execution_count": 4,
   "id": "42408a73",
   "metadata": {},
   "outputs": [
    {
     "name": "stdout",
     "output_type": "stream",
     "text": [
      "(150, 3)\n",
      "(150,)\n"
     ]
    }
   ],
   "source": [
    "# Séparation des caractéristiques (X) et des étiquettes (y)\n",
    "X = dataset[['sepal_length', 'sepal_width', 'petal_length']].values\n",
    "y = dataset['class'].values\n",
    "print(X.shape)\n",
    "print(y.shape)\n"
   ]
  },
  {
   "cell_type": "code",
   "execution_count": 5,
   "id": "1005d46e",
   "metadata": {},
   "outputs": [],
   "source": [
    "# Conversion des étiquettes en valeurs numériques\n",
    "class_mapping = {'Iris-setosa': 0, 'Iris-versicolor': 1, 'Iris-virginica': 2}\n",
    "y = np.array([class_mapping[label] for label in y])\n"
   ]
  },
  {
   "cell_type": "code",
   "execution_count": 6,
   "id": "a8308cb1",
   "metadata": {},
   "outputs": [
    {
     "name": "stdout",
     "output_type": "stream",
     "text": [
      "(120, 3)\n",
      "(30, 3)\n"
     ]
    }
   ],
   "source": [
    "# Séparation des données d'entraînement et de test\n",
    "X_train, X_test, y_train, y_test = train_test_split(X, y, test_size=0.2, random_state=42)\n",
    "print(X_train.shape)\n",
    "print(X_test.shape)"
   ]
  },
  {
   "cell_type": "code",
   "execution_count": 7,
   "id": "ffbd0fd5",
   "metadata": {},
   "outputs": [],
   "source": [
    "xtrain_mean = np.mean(X_train,axis=0)\n",
    "xtrain_std = np.std(X_train,axis=0)\n",
    "\n",
    "X_train = (X_train - xtrain_mean)/xtrain_std\n",
    "X_test = (X_test - xtrain_mean)/xtrain_std"
   ]
  },
  {
   "cell_type": "code",
   "execution_count": 8,
   "id": "b764f16a",
   "metadata": {},
   "outputs": [
    {
     "data": {
      "image/png": "[encoded data removed]",
      "text/plain": [
       "<Figure size 640x480 with 1 Axes>"
      ]
     },
     "metadata": {},
     "output_type": "display_data"
    }
   ],
   "source": [
    "# Entraînement du modèle pour toutes les classes\n",
    "num_classes = 3\n",
    "W, b = train_multiclass_model(X_train, y_train, num_classes)"
   ]
  },
  {
   "cell_type": "code",
   "execution_count": 9,
   "id": "af5d72e3",
   "metadata": {},
   "outputs": [],
   "source": [
    "# Extraction des poids pour chaque classe\n",
    "W_setosa, W_versicolor, W_virginica = W.T\n",
    "b_setosa, b_versicolor, b_virginica = b"
   ]
  },
  {
   "cell_type": "code",
   "execution_count": 10,
   "id": "ef0ecfe9",
   "metadata": {},
   "outputs": [
    {
     "data": {
      "text/plain": [
       "array([1.47128448e-04, 9.99373632e-01, 5.74635665e-10, 6.67105966e-04,\n",
       "       1.33096961e-05, 9.98220571e-01, 2.92142962e-02, 2.75642886e-05,\n",
       "       4.36495586e-06, 1.94832352e-03, 1.73584773e-04, 9.97272078e-01,\n",
       "       9.99281655e-01, 9.97382280e-01, 9.99942567e-01, 1.89501713e-03,\n",
       "       6.48632268e-06, 1.00736946e-03, 8.76956068e-04, 4.41497981e-06,\n",
       "       9.98983305e-01, 2.92322207e-04, 9.99289442e-01, 4.41497981e-06,\n",
       "       2.62830938e-06, 2.00716284e-05, 1.50208654e-07, 6.95405689e-06,\n",
       "       9.97272078e-01, 9.97416166e-01])"
      ]
     },
     "execution_count": 10,
     "metadata": {},
     "output_type": "execute_result"
    }
   ],
   "source": [
    "probs_setosa = predict(X_test, W_setosa, b_setosa)\n",
    "probs_versicolor = predict(X_test, W_versicolor, b_versicolor)\n",
    "probs_virginica = predict(X_test, W_virginica, b_virginica)\n",
    "probs_setosa"
   ]
  },
  {
   "cell_type": "code",
   "execution_count": 11,
   "id": "1592a8f1",
   "metadata": {},
   "outputs": [
    {
     "name": "stdout",
     "output_type": "stream",
     "text": [
      "[0 1 0 0 0 1 0 0 0 0 0 1 1 1 1 0 0 0 0 0 1 0 1 0 0 0 0 0 1 1]\n"
     ]
    }
   ],
   "source": [
    "# Prédiction des classes\n",
    "y_pred_setosa = (probs_setosa >= 0.5).astype(int)\n",
    "y_pred_versicolor = (probs_versicolor >= 0.5).astype(int)\n",
    "y_pred_virginica = (probs_virginica >= 0.5).astype(int)\n",
    "\n",
    "print(y_pred_setosa)"
   ]
  },
  {
   "cell_type": "code",
   "execution_count": 12,
   "id": "51822a7d",
   "metadata": {},
   "outputs": [
    {
     "data": {
      "text/plain": [
       "[array([1.47128448e-04, 9.99373632e-01, 5.74635665e-10, 6.67105966e-04,\n",
       "        1.33096961e-05, 9.98220571e-01, 2.92142962e-02, 2.75642886e-05,\n",
       "        4.36495586e-06, 1.94832352e-03, 1.73584773e-04, 9.97272078e-01,\n",
       "        9.99281655e-01, 9.97382280e-01, 9.99942567e-01, 1.89501713e-03,\n",
       "        6.48632268e-06, 1.00736946e-03, 8.76956068e-04, 4.41497981e-06,\n",
       "        9.98983305e-01, 2.92322207e-04, 9.99289442e-01, 4.41497981e-06,\n",
       "        2.62830938e-06, 2.00716284e-05, 1.50208654e-07, 6.95405689e-06,\n",
       "        9.97272078e-01, 9.97416166e-01]),\n",
       " array([0.47830906, 0.04400747, 0.74204998, 0.39176856, 0.57215846,\n",
       "        0.13412785, 0.38030186, 0.32735956, 0.88346815, 0.55915079,\n",
       "        0.21700491, 0.30119074, 0.10866156, 0.24218615, 0.03295001,\n",
       "        0.16065926, 0.32078795, 0.68916258, 0.43188551, 0.47621868,\n",
       "        0.16657282, 0.31033876, 0.10795108, 0.47621868, 0.0593759 ,\n",
       "        0.37343238, 0.73950688, 0.21896061, 0.30119074, 0.22840409]),\n",
       " array([3.03742358e-01, 1.09094131e-09, 9.99970713e-01, 1.13645098e-01,\n",
       "        1.76252821e-01, 9.37397866e-10, 8.72579821e-04, 4.43667918e-01,\n",
       "        1.85483867e-01, 5.30165486e-03, 6.00938548e-01, 2.72807519e-09,\n",
       "        1.87193611e-10, 3.71851948e-09, 9.66552494e-10, 1.29842886e-01,\n",
       "        9.94322397e-01, 1.02171625e-02, 2.07992671e-01, 9.87293330e-01,\n",
       "        9.04991915e-09, 5.43982515e-01, 3.85171433e-09, 9.87293330e-01,\n",
       "        9.94532778e-01, 7.18630337e-01, 9.95787202e-01, 9.92977063e-01,\n",
       "        2.72807519e-09, 8.55734915e-09])]"
      ]
     },
     "execution_count": 12,
     "metadata": {},
     "output_type": "execute_result"
    }
   ],
   "source": [
    "ProbaFinal = [probs_setosa,probs_versicolor,probs_virginica]\n",
    "ProbaFinal"
   ]
  },
  {
   "cell_type": "code",
   "execution_count": 13,
   "id": "2611e16d",
   "metadata": {},
   "outputs": [],
   "source": [
    "from tabulate import tabulate"
   ]
  },
  {
   "cell_type": "code",
   "execution_count": 14,
   "id": "e5d9b99b",
   "metadata": {},
   "outputs": [
    {
     "name": "stdout",
     "output_type": "stream",
     "text": [
      "+---------------+-------------------+------------------+\n",
      "|   Iris-setosa |   Iris-versicolor |   Iris-virginica |\n",
      "+===============+===================+==================+\n",
      "|   0.000147128 |         0.478309  |      0.303742    |\n",
      "+---------------+-------------------+------------------+\n",
      "|   0.999374    |         0.0440075 |      1.09094e-09 |\n",
      "+---------------+-------------------+------------------+\n",
      "|   5.74636e-10 |         0.74205   |      0.999971    |\n",
      "+---------------+-------------------+------------------+\n",
      "|   0.000667106 |         0.391769  |      0.113645    |\n",
      "+---------------+-------------------+------------------+\n",
      "|   1.33097e-05 |         0.572158  |      0.176253    |\n",
      "+---------------+-------------------+------------------+\n",
      "|   0.998221    |         0.134128  |      9.37398e-10 |\n",
      "+---------------+-------------------+------------------+\n",
      "|   0.0292143   |         0.380302  |      0.00087258  |\n",
      "+---------------+-------------------+------------------+\n",
      "|   2.75643e-05 |         0.32736   |      0.443668    |\n",
      "+---------------+-------------------+------------------+\n",
      "|   4.36496e-06 |         0.883468  |      0.185484    |\n",
      "+---------------+-------------------+------------------+\n",
      "|   0.00194832  |         0.559151  |      0.00530165  |\n",
      "+---------------+-------------------+------------------+\n",
      "|   0.000173585 |         0.217005  |      0.600939    |\n",
      "+---------------+-------------------+------------------+\n",
      "|   0.997272    |         0.301191  |      2.72808e-09 |\n",
      "+---------------+-------------------+------------------+\n",
      "|   0.999282    |         0.108662  |      1.87194e-10 |\n",
      "+---------------+-------------------+------------------+\n",
      "|   0.997382    |         0.242186  |      3.71852e-09 |\n",
      "+---------------+-------------------+------------------+\n",
      "|   0.999943    |         0.03295   |      9.66552e-10 |\n",
      "+---------------+-------------------+------------------+\n",
      "|   0.00189502  |         0.160659  |      0.129843    |\n",
      "+---------------+-------------------+------------------+\n",
      "|   6.48632e-06 |         0.320788  |      0.994322    |\n",
      "+---------------+-------------------+------------------+\n",
      "|   0.00100737  |         0.689163  |      0.0102172   |\n",
      "+---------------+-------------------+------------------+\n",
      "|   0.000876956 |         0.431886  |      0.207993    |\n",
      "+---------------+-------------------+------------------+\n",
      "|   4.41498e-06 |         0.476219  |      0.987293    |\n",
      "+---------------+-------------------+------------------+\n",
      "|   0.998983    |         0.166573  |      9.04992e-09 |\n",
      "+---------------+-------------------+------------------+\n",
      "|   0.000292322 |         0.310339  |      0.543983    |\n",
      "+---------------+-------------------+------------------+\n",
      "|   0.999289    |         0.107951  |      3.85171e-09 |\n",
      "+---------------+-------------------+------------------+\n",
      "|   4.41498e-06 |         0.476219  |      0.987293    |\n",
      "+---------------+-------------------+------------------+\n",
      "|   2.62831e-06 |         0.0593759 |      0.994533    |\n",
      "+---------------+-------------------+------------------+\n",
      "|   2.00716e-05 |         0.373432  |      0.71863     |\n",
      "+---------------+-------------------+------------------+\n",
      "|   1.50209e-07 |         0.739507  |      0.995787    |\n",
      "+---------------+-------------------+------------------+\n",
      "|   6.95406e-06 |         0.218961  |      0.992977    |\n",
      "+---------------+-------------------+------------------+\n",
      "|   0.997272    |         0.301191  |      2.72808e-09 |\n",
      "+---------------+-------------------+------------------+\n",
      "|   0.997416    |         0.228404  |      8.55735e-09 |\n",
      "+---------------+-------------------+------------------+\n"
     ]
    }
   ],
   "source": [
    "\n",
    "# Transposer la liste pour mettre les éléments par colonne\n",
    "transposed_data = list(map(list, zip(*ProbaFinal)))\n",
    "\n",
    "# Spécifiez les en-têtes de lignes (noms des colonnes)\n",
    "column_headers = [\"Iris-setosa\", \"Iris-versicolor\", \"Iris-virginica\"]\n",
    "\n",
    "# Utilisez la fonction tabulate pour afficher le tableau\n",
    "table = tabulate(transposed_data, headers=column_headers, tablefmt=\"grid\")\n",
    "\n",
    "print(table)\n",
    "\n"
   ]
  },
  {
   "cell_type": "code",
   "execution_count": 15,
   "id": "98e00570",
   "metadata": {},
   "outputs": [
    {
     "data": {
      "text/plain": [
       "[1,\n",
       " 0,\n",
       " 2,\n",
       " 1,\n",
       " 1,\n",
       " 0,\n",
       " 1,\n",
       " 2,\n",
       " 1,\n",
       " 1,\n",
       " 2,\n",
       " 0,\n",
       " 0,\n",
       " 0,\n",
       " 0,\n",
       " 1,\n",
       " 2,\n",
       " 1,\n",
       " 1,\n",
       " 2,\n",
       " 0,\n",
       " 2,\n",
       " 0,\n",
       " 2,\n",
       " 2,\n",
       " 2,\n",
       " 2,\n",
       " 2,\n",
       " 0,\n",
       " 0]"
      ]
     },
     "execution_count": 15,
     "metadata": {},
     "output_type": "execute_result"
    }
   ],
   "source": [
    "result=[]\n",
    "#classe_mapping_final = {0: 'Iris-setosa',1: 'Iris-versicolor',2:'Iris-virginica'}\n",
    "for i in range (len(ProbaFinal[0])):\n",
    "  max=np.max([ProbaFinal[0][i],ProbaFinal[1][i],ProbaFinal[2][i]])\n",
    "  for j in range (0,3):\n",
    "    if max==ProbaFinal[j][i]:\n",
    "      result.append(j)\n",
    "result"
   ]
  },
  {
   "cell_type": "code",
   "execution_count": null,
   "id": "a2ce8601",
   "metadata": {},
   "outputs": [],
   "source": []
  },
  {
   "cell_type": "code",
   "execution_count": 16,
   "id": "5f148593",
   "metadata": {},
   "outputs": [
    {
     "name": "stdout",
     "output_type": "stream",
     "text": [
      "Accuracy= 1.0\n"
     ]
    },
    {
     "data": {
      "text/plain": [
       "array([1, 0, 2, 1, 1, 0, 1, 2, 1, 1, 2, 0, 0, 0, 0, 1, 2, 1, 1, 2, 0, 2,\n",
       "       0, 2, 2, 2, 2, 2, 0, 0])"
      ]
     },
     "execution_count": 16,
     "metadata": {},
     "output_type": "execute_result"
    }
   ],
   "source": [
    "from sklearn.metrics import accuracy_score\n",
    "print(\"Accuracy=\",accuracy_score(y_test, result))\n",
    "y_test"
   ]
  },
  {
   "cell_type": "code",
   "execution_count": 17,
   "id": "74fb8e8f",
   "metadata": {},
   "outputs": [
    {
     "name": "stdout",
     "output_type": "stream",
     "text": [
      "[[10  0  0]\n",
      " [ 0  9  0]\n",
      " [ 0  0 11]]\n"
     ]
    }
   ],
   "source": [
    "# Making the Confusion Matrix\n",
    "from sklearn.metrics import confusion_matrix\n",
    "cm = confusion_matrix(y_test, result)\n",
    "print(cm)"
   ]
  },
  {
   "cell_type": "code",
   "execution_count": null,
   "id": "0994ada5",
   "metadata": {},
   "outputs": [],
   "source": []
  }
 ],
 "metadata": {
  "kernelspec": {
   "display_name": "Python 3 (ipykernel)",
   "language": "python",
   "name": "python3"
  },
  "language_info": {
   "codemirror_mode": {
    "name": "ipython",
    "version": 3
   },
   "file_extension": ".py",
   "mimetype": "text/x-python",
   "name": "python",
   "nbconvert_exporter": "python",
   "pygments_lexer": "ipython3",
   "version": "3.11.5"
  }
 },
 "nbformat": 4,
 "nbformat_minor": 5
}
