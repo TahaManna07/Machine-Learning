{
 "cells": [
  {
   "cell_type": "code",
   "execution_count": 1,
   "id": "82f866a9",
   "metadata": {},
   "outputs": [],
   "source": [
    "# Import the libraries\n",
    "import numpy as np\n",
    "import pandas as pd\n",
    "import matplotlib.pyplot as plt\n",
    "import seaborn as sns\n",
    "from sklearn.model_selection import train_test_split\n",
    "%matplotlib inline"
   ]
  },
  {
   "cell_type": "code",
   "execution_count": 2,
   "id": "45916108",
   "metadata": {},
   "outputs": [],
   "source": [
    "\n",
    "df= pd.read_csv('advertising.csv')"
   ]
  },
  {
   "cell_type": "code",
   "execution_count": 3,
   "id": "357a5003",
   "metadata": {},
   "outputs": [
    {
     "data": {
      "text/html": [
       "<div>\n",
       "<style scoped>\n",
       "    .dataframe tbody tr th:only-of-type {\n",
       "        vertical-align: middle;\n",
       "    }\n",
       "\n",
       "    .dataframe tbody tr th {\n",
       "        vertical-align: top;\n",
       "    }\n",
       "\n",
       "    .dataframe thead th {\n",
       "        text-align: right;\n",
       "    }\n",
       "</style>\n",
       "<table border=\"1\" class=\"dataframe\">\n",
       "  <thead>\n",
       "    <tr style=\"text-align: right;\">\n",
       "      <th></th>\n",
       "      <th>TV</th>\n",
       "      <th>Radio</th>\n",
       "      <th>Newspaper</th>\n",
       "      <th>Sales</th>\n",
       "    </tr>\n",
       "  </thead>\n",
       "  <tbody>\n",
       "    <tr>\n",
       "      <th>0</th>\n",
       "      <td>230.1</td>\n",
       "      <td>37.8</td>\n",
       "      <td>69.2</td>\n",
       "      <td>22.1</td>\n",
       "    </tr>\n",
       "    <tr>\n",
       "      <th>1</th>\n",
       "      <td>44.5</td>\n",
       "      <td>39.3</td>\n",
       "      <td>45.1</td>\n",
       "      <td>10.4</td>\n",
       "    </tr>\n",
       "    <tr>\n",
       "      <th>2</th>\n",
       "      <td>17.2</td>\n",
       "      <td>45.9</td>\n",
       "      <td>69.3</td>\n",
       "      <td>12.0</td>\n",
       "    </tr>\n",
       "    <tr>\n",
       "      <th>3</th>\n",
       "      <td>151.5</td>\n",
       "      <td>41.3</td>\n",
       "      <td>58.5</td>\n",
       "      <td>16.5</td>\n",
       "    </tr>\n",
       "    <tr>\n",
       "      <th>4</th>\n",
       "      <td>180.8</td>\n",
       "      <td>10.8</td>\n",
       "      <td>58.4</td>\n",
       "      <td>17.9</td>\n",
       "    </tr>\n",
       "  </tbody>\n",
       "</table>\n",
       "</div>"
      ],
      "text/plain": [
       "      TV  Radio  Newspaper  Sales\n",
       "0  230.1   37.8       69.2   22.1\n",
       "1   44.5   39.3       45.1   10.4\n",
       "2   17.2   45.9       69.3   12.0\n",
       "3  151.5   41.3       58.5   16.5\n",
       "4  180.8   10.8       58.4   17.9"
      ]
     },
     "execution_count": 3,
     "metadata": {},
     "output_type": "execute_result"
    }
   ],
   "source": [
    "# Display the first five observations\n",
    "df.head()"
   ]
  },
  {
   "cell_type": "code",
   "execution_count": 4,
   "id": "a00aa46d",
   "metadata": {},
   "outputs": [],
   "source": [
    "# Extraction des colonnes X\n",
    "XX = df[['TV', 'Radio', 'Newspaper']]\n",
    "\n",
    "#X = df[['TV', 'Radio']]\n",
    "# Extraction de la colonne y\n",
    "yy = df['Sales']"
   ]
  },
  {
   "cell_type": "code",
   "execution_count": 5,
   "id": "2aaa1e67",
   "metadata": {},
   "outputs": [
    {
     "data": {
      "text/html": [
       "<div>\n",
       "<style scoped>\n",
       "    .dataframe tbody tr th:only-of-type {\n",
       "        vertical-align: middle;\n",
       "    }\n",
       "\n",
       "    .dataframe tbody tr th {\n",
       "        vertical-align: top;\n",
       "    }\n",
       "\n",
       "    .dataframe thead th {\n",
       "        text-align: right;\n",
       "    }\n",
       "</style>\n",
       "<table border=\"1\" class=\"dataframe\">\n",
       "  <thead>\n",
       "    <tr style=\"text-align: right;\">\n",
       "      <th></th>\n",
       "      <th>TV</th>\n",
       "      <th>Radio</th>\n",
       "      <th>Newspaper</th>\n",
       "    </tr>\n",
       "  </thead>\n",
       "  <tbody>\n",
       "    <tr>\n",
       "      <th>0</th>\n",
       "      <td>230.1</td>\n",
       "      <td>37.8</td>\n",
       "      <td>69.2</td>\n",
       "    </tr>\n",
       "    <tr>\n",
       "      <th>1</th>\n",
       "      <td>44.5</td>\n",
       "      <td>39.3</td>\n",
       "      <td>45.1</td>\n",
       "    </tr>\n",
       "    <tr>\n",
       "      <th>2</th>\n",
       "      <td>17.2</td>\n",
       "      <td>45.9</td>\n",
       "      <td>69.3</td>\n",
       "    </tr>\n",
       "    <tr>\n",
       "      <th>3</th>\n",
       "      <td>151.5</td>\n",
       "      <td>41.3</td>\n",
       "      <td>58.5</td>\n",
       "    </tr>\n",
       "    <tr>\n",
       "      <th>4</th>\n",
       "      <td>180.8</td>\n",
       "      <td>10.8</td>\n",
       "      <td>58.4</td>\n",
       "    </tr>\n",
       "    <tr>\n",
       "      <th>...</th>\n",
       "      <td>...</td>\n",
       "      <td>...</td>\n",
       "      <td>...</td>\n",
       "    </tr>\n",
       "    <tr>\n",
       "      <th>195</th>\n",
       "      <td>38.2</td>\n",
       "      <td>3.7</td>\n",
       "      <td>13.8</td>\n",
       "    </tr>\n",
       "    <tr>\n",
       "      <th>196</th>\n",
       "      <td>94.2</td>\n",
       "      <td>4.9</td>\n",
       "      <td>8.1</td>\n",
       "    </tr>\n",
       "    <tr>\n",
       "      <th>197</th>\n",
       "      <td>177.0</td>\n",
       "      <td>9.3</td>\n",
       "      <td>6.4</td>\n",
       "    </tr>\n",
       "    <tr>\n",
       "      <th>198</th>\n",
       "      <td>283.6</td>\n",
       "      <td>42.0</td>\n",
       "      <td>66.2</td>\n",
       "    </tr>\n",
       "    <tr>\n",
       "      <th>199</th>\n",
       "      <td>232.1</td>\n",
       "      <td>8.6</td>\n",
       "      <td>8.7</td>\n",
       "    </tr>\n",
       "  </tbody>\n",
       "</table>\n",
       "<p>200 rows × 3 columns</p>\n",
       "</div>"
      ],
      "text/plain": [
       "        TV  Radio  Newspaper\n",
       "0    230.1   37.8       69.2\n",
       "1     44.5   39.3       45.1\n",
       "2     17.2   45.9       69.3\n",
       "3    151.5   41.3       58.5\n",
       "4    180.8   10.8       58.4\n",
       "..     ...    ...        ...\n",
       "195   38.2    3.7       13.8\n",
       "196   94.2    4.9        8.1\n",
       "197  177.0    9.3        6.4\n",
       "198  283.6   42.0       66.2\n",
       "199  232.1    8.6        8.7\n",
       "\n",
       "[200 rows x 3 columns]"
      ]
     },
     "execution_count": 5,
     "metadata": {},
     "output_type": "execute_result"
    }
   ],
   "source": [
    "XX\n"
   ]
  },
  {
   "cell_type": "code",
   "execution_count": 6,
   "id": "d298ff76",
   "metadata": {},
   "outputs": [
    {
     "data": {
      "text/plain": [
       "0      22.1\n",
       "1      10.4\n",
       "2      12.0\n",
       "3      16.5\n",
       "4      17.9\n",
       "       ... \n",
       "195     7.6\n",
       "196    14.0\n",
       "197    14.8\n",
       "198    25.5\n",
       "199    18.4\n",
       "Name: Sales, Length: 200, dtype: float64"
      ]
     },
     "execution_count": 6,
     "metadata": {},
     "output_type": "execute_result"
    }
   ],
   "source": [
    "yy"
   ]
  },
  {
   "cell_type": "code",
   "execution_count": 7,
   "id": "9c095964",
   "metadata": {},
   "outputs": [],
   "source": [
    "# Drop the id and date columns\n",
    "#df = df.drop(['Sales'], axis=1)"
   ]
  },
  {
   "cell_type": "code",
   "execution_count": 8,
   "id": "d84615ed",
   "metadata": {},
   "outputs": [
    {
     "data": {
      "text/plain": [
       "200"
      ]
     },
     "execution_count": 8,
     "metadata": {},
     "output_type": "execute_result"
    }
   ],
   "source": [
    "# Display the number of data observations\n",
    "len(df)"
   ]
  },
  {
   "cell_type": "code",
   "execution_count": 9,
   "id": "3a9d4ccb",
   "metadata": {},
   "outputs": [
    {
     "name": "stdout",
     "output_type": "stream",
     "text": [
      "4\n",
      "3\n"
     ]
    }
   ],
   "source": [
    "print(len(df.columns))\n",
    "print(len(XX.columns))"
   ]
  },
  {
   "cell_type": "code",
   "execution_count": 10,
   "id": "d307a66e",
   "metadata": {},
   "outputs": [
    {
     "data": {
      "text/plain": [
       "TV           float64\n",
       "Radio        float64\n",
       "Newspaper    float64\n",
       "Sales        float64\n",
       "dtype: object"
      ]
     },
     "execution_count": 10,
     "metadata": {},
     "output_type": "execute_result"
    }
   ],
   "source": [
    "# Check the types of data\n",
    "df.dtypes\n",
    "#XX.dtypes"
   ]
  },
  {
   "cell_type": "code",
   "execution_count": 11,
   "id": "72a2b5ed",
   "metadata": {},
   "outputs": [
    {
     "data": {
      "text/plain": [
       "0"
      ]
     },
     "execution_count": 11,
     "metadata": {},
     "output_type": "execute_result"
    }
   ],
   "source": [
    "# Display the number of null data observations\n",
    "df.isnull().values.sum()"
   ]
  },
  {
   "cell_type": "code",
   "execution_count": null,
   "id": "2bf58222",
   "metadata": {},
   "outputs": [],
   "source": []
  },
  {
   "cell_type": "code",
   "execution_count": null,
   "id": "e9822575",
   "metadata": {},
   "outputs": [],
   "source": []
  },
  {
   "cell_type": "code",
   "execution_count": 12,
   "id": "a32e7d66",
   "metadata": {},
   "outputs": [
    {
     "data": {
      "text/plain": [
       "TV           0.901208\n",
       "Radio        0.349631\n",
       "Newspaper    0.157960\n",
       "Sales        1.000000\n",
       "Name: Sales, dtype: float64"
      ]
     },
     "execution_count": 12,
     "metadata": {},
     "output_type": "execute_result"
    }
   ],
   "source": [
    "# Correlations of features with target variable\n",
    "correlations = df.corr()\n",
    "correlations['Sales']"
   ]
  },
  {
   "cell_type": "code",
   "execution_count": 13,
   "id": "6a091f7d",
   "metadata": {},
   "outputs": [],
   "source": [
    "# Correlations with target variable\n",
    "cor_target = abs(correlations['Sales'])\n",
    "\n",
    "# Display features with correlation < 0.2\n",
    "#removed_features = cor_target[cor_target < 0.2]\n",
    "#removed_features"
   ]
  },
  {
   "cell_type": "code",
   "execution_count": 14,
   "id": "3fb4d8b9",
   "metadata": {},
   "outputs": [],
   "source": [
    "# Remove features with correlation < 0.2\n",
    "#df = df.drop(['sqft_lot', 'condition', 'yr_built', 'yr_renovated', 'zipcode', 'long','sqft_lot15'], axis=1)"
   ]
  },
  {
   "cell_type": "code",
   "execution_count": 15,
   "id": "04a73e2b",
   "metadata": {},
   "outputs": [
    {
     "data": {
      "image/png": "[encoded data removed]",
      "text/plain": [
       "<Figure size 1500x1000 with 2 Axes>"
      ]
     },
     "metadata": {},
     "output_type": "display_data"
    }
   ],
   "source": [
    "# Plot Pearson correlation matrix\n",
    "fig_1 = plt.figure(figsize=(15, 10))\n",
    "new_correlations = df.corr()\n",
    "sns.heatmap(new_correlations, annot=True, cmap='Greens', annot_kws={'size': 25})\n",
    "plt.title('Pearson Correlation Matrix')\n",
    "plt.show()"
   ]
  },
  {
   "cell_type": "code",
   "execution_count": 16,
   "id": "8c334065",
   "metadata": {},
   "outputs": [],
   "source": [
    "# Determine the highest intercorrelations\n",
    "#highly_correlated_features = new_correlations[new_correlations > 0.75]\n",
    "#highly_correlated_features.fillna('-')"
   ]
  },
  {
   "cell_type": "code",
   "execution_count": 17,
   "id": "e38367c1",
   "metadata": {},
   "outputs": [],
   "source": [
    "# Remove features which are highly correlated with \"sqft_living\"\n",
    "#df = df.drop(['sqft_lot', 'condition', 'yr_built', 'yr_renovated', 'zipcode', 'long','sqft_lot15'], axis=1)\n"
   ]
  },
  {
   "cell_type": "code",
   "execution_count": 52,
   "id": "5b9de3be",
   "metadata": {},
   "outputs": [
    {
     "name": "stdout",
     "output_type": "stream",
     "text": [
      "(200, 3)\n"
     ]
    }
   ],
   "source": [
    "# Update features and store their length\n",
    "features = XX.columns.tolist()\n",
    "len_of_features = len(features)\n",
    "len_of_features\n",
    "\n",
    "# Display the first five observations\n",
    "XX.head()\n",
    "print(XX.shape)"
   ]
  },
  {
   "cell_type": "code",
   "execution_count": null,
   "id": "e91d10b4",
   "metadata": {},
   "outputs": [],
   "source": []
  },
  {
   "cell_type": "code",
   "execution_count": 54,
   "id": "66561b5a",
   "metadata": {},
   "outputs": [
    {
     "name": "stdout",
     "output_type": "stream",
     "text": [
      " XX avant :  (200, 3)\n",
      "YY avant :  (200,)\n",
      "x_train apres :  (160, 4)\n",
      "y _train apres :  (160, 1)\n"
     ]
    },
    {
     "data": {
      "text/html": [
       "<div>\n",
       "<style scoped>\n",
       "    .dataframe tbody tr th:only-of-type {\n",
       "        vertical-align: middle;\n",
       "    }\n",
       "\n",
       "    .dataframe tbody tr th {\n",
       "        vertical-align: top;\n",
       "    }\n",
       "\n",
       "    .dataframe thead th {\n",
       "        text-align: right;\n",
       "    }\n",
       "</style>\n",
       "<table border=\"1\" class=\"dataframe\">\n",
       "  <thead>\n",
       "    <tr style=\"text-align: right;\">\n",
       "      <th></th>\n",
       "      <th>TV</th>\n",
       "      <th>Radio</th>\n",
       "      <th>Newspaper</th>\n",
       "    </tr>\n",
       "  </thead>\n",
       "  <tbody>\n",
       "    <tr>\n",
       "      <th>79</th>\n",
       "      <td>-0.402983</td>\n",
       "      <td>-1.025019</td>\n",
       "      <td>-0.336618</td>\n",
       "    </tr>\n",
       "    <tr>\n",
       "      <th>197</th>\n",
       "      <td>0.319604</td>\n",
       "      <td>-0.916949</td>\n",
       "      <td>-1.157804</td>\n",
       "    </tr>\n",
       "    <tr>\n",
       "      <th>38</th>\n",
       "      <td>-1.266534</td>\n",
       "      <td>0.258313</td>\n",
       "      <td>0.253455</td>\n",
       "    </tr>\n",
       "    <tr>\n",
       "      <th>24</th>\n",
       "      <td>-1.039097</td>\n",
       "      <td>-0.694054</td>\n",
       "      <td>-0.572648</td>\n",
       "    </tr>\n",
       "    <tr>\n",
       "      <th>122</th>\n",
       "      <td>0.876352</td>\n",
       "      <td>-1.383001</td>\n",
       "      <td>-0.705414</td>\n",
       "    </tr>\n",
       "    <tr>\n",
       "      <th>...</th>\n",
       "      <td>...</td>\n",
       "      <td>...</td>\n",
       "      <td>...</td>\n",
       "    </tr>\n",
       "    <tr>\n",
       "      <th>106</th>\n",
       "      <td>-1.480941</td>\n",
       "      <td>-0.802124</td>\n",
       "      <td>-0.012078</td>\n",
       "    </tr>\n",
       "    <tr>\n",
       "      <th>14</th>\n",
       "      <td>0.640623</td>\n",
       "      <td>0.677084</td>\n",
       "      <td>0.789438</td>\n",
       "    </tr>\n",
       "    <tr>\n",
       "      <th>92</th>\n",
       "      <td>0.801724</td>\n",
       "      <td>0.717610</td>\n",
       "      <td>1.428685</td>\n",
       "    </tr>\n",
       "    <tr>\n",
       "      <th>179</th>\n",
       "      <td>0.184563</td>\n",
       "      <td>-0.869668</td>\n",
       "      <td>-0.607069</td>\n",
       "    </tr>\n",
       "    <tr>\n",
       "      <th>102</th>\n",
       "      <td>1.542080</td>\n",
       "      <td>-0.862914</td>\n",
       "      <td>-0.420212</td>\n",
       "    </tr>\n",
       "  </tbody>\n",
       "</table>\n",
       "<p>160 rows × 3 columns</p>\n",
       "</div>"
      ],
      "text/plain": [
       "           TV     Radio  Newspaper\n",
       "79  -0.402983 -1.025019  -0.336618\n",
       "197  0.319604 -0.916949  -1.157804\n",
       "38  -1.266534  0.258313   0.253455\n",
       "24  -1.039097 -0.694054  -0.572648\n",
       "122  0.876352 -1.383001  -0.705414\n",
       "..        ...       ...        ...\n",
       "106 -1.480941 -0.802124  -0.012078\n",
       "14   0.640623  0.677084   0.789438\n",
       "92   0.801724  0.717610   1.428685\n",
       "179  0.184563 -0.869668  -0.607069\n",
       "102  1.542080 -0.862914  -0.420212\n",
       "\n",
       "[160 rows x 3 columns]"
      ]
     },
     "execution_count": 54,
     "metadata": {},
     "output_type": "execute_result"
    }
   ],
   "source": [
    "# Create X, y and theta\n",
    "#XX = df.iloc[:, 1:]\n",
    "print(' XX avant : ',XX.shape)\n",
    "print('YY avant : ',yy.shape)\n",
    "X_train, X_test, y_train, y_test = train_test_split(XX, yy, test_size=0.2, random_state=42)\n",
    "\n",
    "\n",
    "#print('y_train avant : ',y_train.shape)\n",
    "# Création de la matrice X, inclut le Biais\n",
    "# Normalize the features\n",
    "X_train = (X_train - X_train.mean())/X_train.std()\n",
    "X_test = (X_test - X_test.mean())/X_test.std()\n",
    "\n",
    "#X\n",
    "\n",
    "X = np.hstack((X_train, np.ones((X_train.shape[0], 1)))) # ajoute un vecteur Biais de dimension (x.shape[0], 1)\n",
    "y = y_train.values.reshape((-1, 1))\n",
    "\n",
    "\n",
    "print('x_train apres : ',X.shape)\n",
    "print('y _train apres : ',y.shape)\n",
    "\n",
    "X_train"
   ]
  },
  {
   "cell_type": "code",
   "execution_count": null,
   "id": "024fdbac",
   "metadata": {},
   "outputs": [],
   "source": []
  },
  {
   "cell_type": "code",
   "execution_count": null,
   "id": "a5bb995d",
   "metadata": {},
   "outputs": [],
   "source": []
  },
  {
   "cell_type": "code",
   "execution_count": 38,
   "id": "26250e63",
   "metadata": {},
   "outputs": [],
   "source": [
    "#y_train=y_train.values.reshape(17290,1)\n",
    "#print(y_train.shape)"
   ]
  },
  {
   "cell_type": "code",
   "execution_count": 39,
   "id": "2e984f3e",
   "metadata": {},
   "outputs": [
    {
     "name": "stdout",
     "output_type": "stream",
     "text": [
      "(4, 1)\n"
     ]
    }
   ],
   "source": [
    "#y = df.iloc[:, 0:1].values\n",
    "np.random.seed(0)\n",
    "theta = np.random.randn(X.shape[1], 1)\n",
    "print(theta.shape)"
   ]
  },
  {
   "cell_type": "code",
   "execution_count": 40,
   "id": "8ceaba9f",
   "metadata": {},
   "outputs": [],
   "source": [
    "def model(X, theta): # définir le modèle\n",
    "    return X.dot(theta)"
   ]
  },
  {
   "cell_type": "code",
   "execution_count": 41,
   "id": "dc3af4f3",
   "metadata": {},
   "outputs": [],
   "source": [
    "def cost_function(X, y, theta): #définir la fonction coût\n",
    "    m = len(y)\n",
    "    return 1/(2*m) * np.sum((model(X, theta) - y)**2)"
   ]
  },
  {
   "cell_type": "code",
   "execution_count": 42,
   "id": "923b8eaf",
   "metadata": {},
   "outputs": [
    {
     "data": {
      "text/plain": [
       "91.74091996597303"
      ]
     },
     "execution_count": 42,
     "metadata": {},
     "output_type": "execute_result"
    }
   ],
   "source": [
    "cost_function(X, y, theta)"
   ]
  },
  {
   "cell_type": "code",
   "execution_count": 43,
   "id": "70d28821",
   "metadata": {},
   "outputs": [],
   "source": [
    "# définir la fonction de gradient\n",
    "def grad(X, y, theta):\n",
    "    m = len(y)\n",
    "    return 1/m * X.T.dot(model(X, theta) - y)"
   ]
  },
  {
   "cell_type": "code",
   "execution_count": 44,
   "id": "1e3c5598",
   "metadata": {},
   "outputs": [],
   "source": [
    "# Définir la descente de gradient\n",
    "def gradient_descent(X, y, theta, learning_rate, n_iterations):\n",
    "    \n",
    "    cost_history = np.zeros(n_iterations) # création d'un tableau de stockage pour enregistrer l'évolution du Cout du modele\n",
    "    \n",
    "    for i in range(0, n_iterations):\n",
    "        theta = theta - learning_rate * grad(X, y, theta) # mise a jour du parametre theta (formule du gradient descent)\n",
    "        cost_history[i] = cost_function(X, y, theta) # on enregistre la valeur du Cout au tour i dans cost_history[i]\n",
    "        \n",
    "    return theta, cost_history"
   ]
  },
  {
   "cell_type": "code",
   "execution_count": 45,
   "id": "6f81fc83",
   "metadata": {},
   "outputs": [],
   "source": [
    "# Entrainement du modèle\n",
    "n_iterations = 1000\n",
    "learning_rate = 0.01\n",
    "\n",
    "#theta_final, cost_history = gradient_descent(X, y, theta, learning_rate, n_iterations)\n",
    "theta_final, cost_history = gradient_descent(X, y, theta, learning_rate, n_iterations)\n"
   ]
  },
  {
   "cell_type": "code",
   "execution_count": 46,
   "id": "d35b2dd2",
   "metadata": {},
   "outputs": [
    {
     "data": {
      "text/plain": [
       "array([[ 4.60164917],\n",
       "       [ 1.49255211],\n",
       "       [ 0.0901662 ],\n",
       "       [15.3300599 ]])"
      ]
     },
     "execution_count": 46,
     "metadata": {},
     "output_type": "execute_result"
    }
   ],
   "source": [
    "# création d'un vecteur prédictions qui contient les prédictions de notre modele final\n",
    "X = np.hstack((X_test, np.ones((X_test.shape[0], 1)))) # ajoute un vecteur Biais de dimension (x.shape[0], 1)\n",
    "\n",
    "predictions = model(X, theta_final)\n",
    "\n",
    "theta_final\n"
   ]
  },
  {
   "cell_type": "code",
   "execution_count": 47,
   "id": "7fd6af5f",
   "metadata": {},
   "outputs": [
    {
     "data": {
      "image/png": "[encoded data removed]",
      "text/plain": [
       "<Figure size 640x480 with 1 Axes>"
      ]
     },
     "metadata": {},
     "output_type": "display_data"
    }
   ],
   "source": [
    "# Courbe d'apprentissage\n",
    "plt.plot(range(n_iterations), cost_history)\n",
    "plt.show()"
   ]
  },
  {
   "cell_type": "code",
   "execution_count": 55,
   "id": "49684647",
   "metadata": {},
   "outputs": [],
   "source": [
    "# Evaluation du modèle\n",
    "def coef_determination(y, pred):\n",
    "    u = ((y - pred)**2).sum()\n",
    "    v = ((y - y.mean())**2).sum()\n",
    "    return 1 - u/v"
   ]
  },
  {
   "cell_type": "code",
   "execution_count": 56,
   "id": "bfb12625",
   "metadata": {},
   "outputs": [
    {
     "name": "stdout",
     "output_type": "stream",
     "text": [
      "(40,)\n",
      "(40, 1)\n",
      "[[17.48333383]\n",
      " [20.68884023]\n",
      " [23.64153395]\n",
      " [10.35836151]\n",
      " [21.90315565]\n",
      " [13.38366639]\n",
      " [21.30334372]\n",
      " [ 9.693849  ]\n",
      " [17.53459807]\n",
      " [17.1056219 ]\n",
      " [ 9.99436637]\n",
      " [ 9.46023444]\n",
      " [18.38289019]\n",
      " [ 9.22990583]\n",
      " [13.28270127]\n",
      " [15.41860442]\n",
      " [ 9.25457465]\n",
      " [18.25821894]\n",
      " [11.87314729]\n",
      " [20.66396907]\n",
      " [20.9525923 ]\n",
      " [13.37980439]\n",
      " [11.90550839]\n",
      " [22.43746185]\n",
      " [10.36336684]\n",
      " [ 8.93098   ]\n",
      " [21.07052506]\n",
      " [14.44344435]\n",
      " [11.60927944]\n",
      " [ 9.08946029]\n",
      " [16.34619646]\n",
      " [11.53868006]\n",
      " [21.05662038]\n",
      " [11.43983577]\n",
      " [21.58397707]\n",
      " [21.3572657 ]\n",
      " [13.07431463]\n",
      " [22.79057977]\n",
      " [13.33587502]\n",
      " [ 7.58171151]]\n"
     ]
    },
    {
     "data": {
      "text/plain": [
       "0.875298796818762"
      ]
     },
     "execution_count": 56,
     "metadata": {},
     "output_type": "execute_result"
    }
   ],
   "source": [
    "print(y_test.shape)\n",
    "y_lst=y_test.values.reshape(y_test.shape[0],1)\n",
    "\n",
    "\n",
    "print(y_lst.shape)\n",
    "print(predictions)\n",
    "coef_determination(y_lst, predictions)"
   ]
  },
  {
   "cell_type": "code",
   "execution_count": 50,
   "id": "36e9e47a",
   "metadata": {},
   "outputs": [],
   "source": [
    "#str(predictions[4].round(2))"
   ]
  },
  {
   "cell_type": "code",
   "execution_count": 51,
   "id": "d6f2e04e",
   "metadata": {},
   "outputs": [],
   "source": [
    "#str(y_lst[4].round(2))"
   ]
  },
  {
   "cell_type": "code",
   "execution_count": 34,
   "id": "1107bb3d",
   "metadata": {},
   "outputs": [],
   "source": [
    "#str(predictions[4].round(2)-y_lst[4].round(2))"
   ]
  },
  {
   "cell_type": "code",
   "execution_count": null,
   "id": "1cd6b48f",
   "metadata": {},
   "outputs": [],
   "source": []
  },
  {
   "cell_type": "code",
   "execution_count": null,
   "id": "3064387a",
   "metadata": {},
   "outputs": [],
   "source": []
  },
  {
   "cell_type": "code",
   "execution_count": null,
   "id": "cb05913d",
   "metadata": {},
   "outputs": [],
   "source": []
  }
 ],
 "metadata": {
  "kernelspec": {
   "display_name": "Python 3 (ipykernel)",
   "language": "python",
   "name": "python3"
  },
  "language_info": {
   "codemirror_mode": {
    "name": "ipython",
    "version": 3
   },
   "file_extension": ".py",
   "mimetype": "text/x-python",
   "name": "python",
   "nbconvert_exporter": "python",
   "pygments_lexer": "ipython3",
   "version": "3.11.5"
  }
 },
 "nbformat": 4,
 "nbformat_minor": 5
}
