{
 "cells": [
  {
   "cell_type": "markdown",
   "id": "952e8adb",
   "metadata": {},
   "source": [
    "# Regression Linéaire Simple du dataset Iris - Gradient Descent"
   ]
  },
  {
   "cell_type": "code",
   "execution_count": 1,
   "id": "4aaf4dbc",
   "metadata": {},
   "outputs": [],
   "source": [
    "import pandas as pd\n",
    "import numpy as np\n",
    "import matplotlib.pyplot as plt\n",
    "%matplotlib inline"
   ]
  },
  {
   "cell_type": "markdown",
   "id": "52aab10c",
   "metadata": {},
   "source": [
    "## 1. Dataset\n",
    "Chargement du dataset Iris pour effectuer les prédictions de la largeur des pétales en fonction de longueur des pétales"
   ]
  },
  {
   "cell_type": "code",
   "execution_count": 2,
   "id": "fd4ad33b",
   "metadata": {},
   "outputs": [],
   "source": [
    "dataset=pd.read_csv(\"iris.csv\")"
   ]
  },
  {
   "cell_type": "code",
   "execution_count": 3,
   "id": "b1933fdf",
   "metadata": {},
   "outputs": [
    {
     "data": {
      "text/html": [
       "<div>\n",
       "<style scoped>\n",
       "    .dataframe tbody tr th:only-of-type {\n",
       "        vertical-align: middle;\n",
       "    }\n",
       "\n",
       "    .dataframe tbody tr th {\n",
       "        vertical-align: top;\n",
       "    }\n",
       "\n",
       "    .dataframe thead th {\n",
       "        text-align: right;\n",
       "    }\n",
       "</style>\n",
       "<table border=\"1\" class=\"dataframe\">\n",
       "  <thead>\n",
       "    <tr style=\"text-align: right;\">\n",
       "      <th></th>\n",
       "      <th>sepal_length</th>\n",
       "      <th>sepal_width</th>\n",
       "      <th>petal_length</th>\n",
       "      <th>petal_width</th>\n",
       "      <th>class</th>\n",
       "    </tr>\n",
       "  </thead>\n",
       "  <tbody>\n",
       "    <tr>\n",
       "      <th>0</th>\n",
       "      <td>5.1</td>\n",
       "      <td>3.5</td>\n",
       "      <td>1.4</td>\n",
       "      <td>0.2</td>\n",
       "      <td>Iris-setosa</td>\n",
       "    </tr>\n",
       "    <tr>\n",
       "      <th>1</th>\n",
       "      <td>4.9</td>\n",
       "      <td>3.0</td>\n",
       "      <td>1.4</td>\n",
       "      <td>0.2</td>\n",
       "      <td>Iris-setosa</td>\n",
       "    </tr>\n",
       "    <tr>\n",
       "      <th>2</th>\n",
       "      <td>4.7</td>\n",
       "      <td>3.2</td>\n",
       "      <td>1.3</td>\n",
       "      <td>0.2</td>\n",
       "      <td>Iris-setosa</td>\n",
       "    </tr>\n",
       "    <tr>\n",
       "      <th>3</th>\n",
       "      <td>4.6</td>\n",
       "      <td>3.1</td>\n",
       "      <td>1.5</td>\n",
       "      <td>0.2</td>\n",
       "      <td>Iris-setosa</td>\n",
       "    </tr>\n",
       "    <tr>\n",
       "      <th>4</th>\n",
       "      <td>5.0</td>\n",
       "      <td>3.6</td>\n",
       "      <td>1.4</td>\n",
       "      <td>0.2</td>\n",
       "      <td>Iris-setosa</td>\n",
       "    </tr>\n",
       "  </tbody>\n",
       "</table>\n",
       "</div>"
      ],
      "text/plain": [
       "   sepal_length  sepal_width  petal_length  petal_width        class\n",
       "0           5.1          3.5           1.4          0.2  Iris-setosa\n",
       "1           4.9          3.0           1.4          0.2  Iris-setosa\n",
       "2           4.7          3.2           1.3          0.2  Iris-setosa\n",
       "3           4.6          3.1           1.5          0.2  Iris-setosa\n",
       "4           5.0          3.6           1.4          0.2  Iris-setosa"
      ]
     },
     "execution_count": 3,
     "metadata": {},
     "output_type": "execute_result"
    }
   ],
   "source": [
    "dataset.head()"
   ]
  },
  {
   "cell_type": "code",
   "execution_count": 4,
   "id": "7b6ad56e",
   "metadata": {},
   "outputs": [
    {
     "data": {
      "image/png": "[encoded data removed]",
      "text/plain": [
       "<Figure size 640x480 with 1 Axes>"
      ]
     },
     "metadata": {},
     "output_type": "display_data"
    }
   ],
   "source": [
    "plt.plot(dataset[\"sepal_width\"],dataset[\"petal_length\"],'o')\n",
    "plt.xlabel('petal_length')\n",
    "plt.ylabel('sepal_width')\n",
    "plt.show()"
   ]
  },
  {
   "cell_type": "code",
   "execution_count": 5,
   "id": "dc5a27ae",
   "metadata": {},
   "outputs": [
    {
     "data": {
      "text/html": [
       "<div>\n",
       "<style scoped>\n",
       "    .dataframe tbody tr th:only-of-type {\n",
       "        vertical-align: middle;\n",
       "    }\n",
       "\n",
       "    .dataframe tbody tr th {\n",
       "        vertical-align: top;\n",
       "    }\n",
       "\n",
       "    .dataframe thead th {\n",
       "        text-align: right;\n",
       "    }\n",
       "</style>\n",
       "<table border=\"1\" class=\"dataframe\">\n",
       "  <thead>\n",
       "    <tr style=\"text-align: right;\">\n",
       "      <th></th>\n",
       "      <th>petal_length</th>\n",
       "      <th>sepal_width</th>\n",
       "    </tr>\n",
       "  </thead>\n",
       "  <tbody>\n",
       "    <tr>\n",
       "      <th>0</th>\n",
       "      <td>1.4</td>\n",
       "      <td>3.5</td>\n",
       "    </tr>\n",
       "    <tr>\n",
       "      <th>1</th>\n",
       "      <td>1.4</td>\n",
       "      <td>3.0</td>\n",
       "    </tr>\n",
       "    <tr>\n",
       "      <th>2</th>\n",
       "      <td>1.3</td>\n",
       "      <td>3.2</td>\n",
       "    </tr>\n",
       "    <tr>\n",
       "      <th>3</th>\n",
       "      <td>1.5</td>\n",
       "      <td>3.1</td>\n",
       "    </tr>\n",
       "    <tr>\n",
       "      <th>4</th>\n",
       "      <td>1.4</td>\n",
       "      <td>3.6</td>\n",
       "    </tr>\n",
       "    <tr>\n",
       "      <th>...</th>\n",
       "      <td>...</td>\n",
       "      <td>...</td>\n",
       "    </tr>\n",
       "    <tr>\n",
       "      <th>145</th>\n",
       "      <td>5.2</td>\n",
       "      <td>3.0</td>\n",
       "    </tr>\n",
       "    <tr>\n",
       "      <th>146</th>\n",
       "      <td>5.0</td>\n",
       "      <td>2.5</td>\n",
       "    </tr>\n",
       "    <tr>\n",
       "      <th>147</th>\n",
       "      <td>5.2</td>\n",
       "      <td>3.0</td>\n",
       "    </tr>\n",
       "    <tr>\n",
       "      <th>148</th>\n",
       "      <td>5.4</td>\n",
       "      <td>3.4</td>\n",
       "    </tr>\n",
       "    <tr>\n",
       "      <th>149</th>\n",
       "      <td>5.1</td>\n",
       "      <td>3.0</td>\n",
       "    </tr>\n",
       "  </tbody>\n",
       "</table>\n",
       "<p>150 rows × 2 columns</p>\n",
       "</div>"
      ],
      "text/plain": [
       "     petal_length  sepal_width\n",
       "0             1.4          3.5\n",
       "1             1.4          3.0\n",
       "2             1.3          3.2\n",
       "3             1.5          3.1\n",
       "4             1.4          3.6\n",
       "..            ...          ...\n",
       "145           5.2          3.0\n",
       "146           5.0          2.5\n",
       "147           5.2          3.0\n",
       "148           5.4          3.4\n",
       "149           5.1          3.0\n",
       "\n",
       "[150 rows x 2 columns]"
      ]
     },
     "execution_count": 5,
     "metadata": {},
     "output_type": "execute_result"
    }
   ],
   "source": [
    "df=dataset[['petal_length','sepal_width']]\n",
    "df"
   ]
  },
  {
   "cell_type": "code",
   "execution_count": 6,
   "id": "b5c2d3ff",
   "metadata": {},
   "outputs": [],
   "source": [
    "\n",
    "x=dataset.petal_length\n",
    "y=dataset.sepal_width\n"
   ]
  },
  {
   "cell_type": "code",
   "execution_count": 7,
   "id": "946c2c7e",
   "metadata": {},
   "outputs": [
    {
     "data": {
      "text/plain": [
       "0      1.4\n",
       "1      1.4\n",
       "2      1.3\n",
       "3      1.5\n",
       "4      1.4\n",
       "      ... \n",
       "145    5.2\n",
       "146    5.0\n",
       "147    5.2\n",
       "148    5.4\n",
       "149    5.1\n",
       "Name: petal_length, Length: 150, dtype: float64"
      ]
     },
     "execution_count": 7,
     "metadata": {},
     "output_type": "execute_result"
    }
   ],
   "source": [
    "x"
   ]
  },
  {
   "cell_type": "code",
   "execution_count": 8,
   "id": "53cf6861",
   "metadata": {},
   "outputs": [
    {
     "data": {
      "text/plain": [
       "(150,)"
      ]
     },
     "execution_count": 8,
     "metadata": {},
     "output_type": "execute_result"
    }
   ],
   "source": [
    "x.shape"
   ]
  },
  {
   "cell_type": "code",
   "execution_count": 9,
   "id": "df2012da",
   "metadata": {},
   "outputs": [
    {
     "data": {
      "text/plain": [
       "0      3.5\n",
       "1      3.0\n",
       "2      3.2\n",
       "3      3.1\n",
       "4      3.6\n",
       "      ... \n",
       "145    3.0\n",
       "146    2.5\n",
       "147    3.0\n",
       "148    3.4\n",
       "149    3.0\n",
       "Name: sepal_width, Length: 150, dtype: float64"
      ]
     },
     "execution_count": 9,
     "metadata": {},
     "output_type": "execute_result"
    }
   ],
   "source": [
    "y"
   ]
  },
  {
   "cell_type": "code",
   "execution_count": 10,
   "id": "96f1cead",
   "metadata": {},
   "outputs": [
    {
     "data": {
      "text/plain": [
       "(150,)"
      ]
     },
     "execution_count": 10,
     "metadata": {},
     "output_type": "execute_result"
    }
   ],
   "source": [
    "y.shape"
   ]
  },
  {
   "cell_type": "markdown",
   "id": "107cf286",
   "metadata": {},
   "source": [
    "Important: Après avoir vérifié les dimensions de x et y, On remarque que y n'a pas les dimensions (150, 1) et x n'a pas les dimensions (150,2). On corrige le problème avec np.reshape et values."
   ]
  },
  {
   "cell_type": "code",
   "execution_count": 11,
   "id": "0cda34fb",
   "metadata": {},
   "outputs": [
    {
     "data": {
      "text/plain": [
       "array([1.4, 1.4, 1.3, 1.5, 1.4, 1.7, 1.4, 1.5, 1.4, 1.5, 1.5, 1.6, 1.4,\n",
       "       1.1, 1.2, 1.5, 1.3, 1.4, 1.7, 1.5, 1.7, 1.5, 1. , 1.7, 1.9, 1.6,\n",
       "       1.6, 1.5, 1.4, 1.6, 1.6, 1.5, 1.5, 1.4, 1.5, 1.2, 1.3, 1.5, 1.3,\n",
       "       1.5, 1.3, 1.3, 1.3, 1.6, 1.9, 1.4, 1.6, 1.4, 1.5, 1.4, 4.7, 4.5,\n",
       "       4.9, 4. , 4.6, 4.5, 4.7, 3.3, 4.6, 3.9, 3.5, 4.2, 4. , 4.7, 3.6,\n",
       "       4.4, 4.5, 4.1, 4.5, 3.9, 4.8, 4. , 4.9, 4.7, 4.3, 4.4, 4.8, 5. ,\n",
       "       4.5, 3.5, 3.8, 3.7, 3.9, 5.1, 4.5, 4.5, 4.7, 4.4, 4.1, 4. , 4.4,\n",
       "       4.6, 4. , 3.3, 4.2, 4.2, 4.2, 4.3, 3. , 4.1, 6. , 5.1, 5.9, 5.6,\n",
       "       5.8, 6.6, 4.5, 6.3, 5.8, 6.1, 5.1, 5.3, 5.5, 5. , 5.1, 5.3, 5.5,\n",
       "       6.7, 6.9, 5. , 5.7, 4.9, 6.7, 4.9, 5.7, 6. , 4.8, 4.9, 5.6, 5.8,\n",
       "       6.1, 6.4, 5.6, 5.1, 5.6, 6.1, 5.6, 5.5, 4.8, 5.4, 5.6, 5.1, 5.1,\n",
       "       5.9, 5.7, 5.2, 5. , 5.2, 5.4, 5.1])"
      ]
     },
     "execution_count": 11,
     "metadata": {},
     "output_type": "execute_result"
    }
   ],
   "source": [
    "X=dataset.petal_length.values\n",
    "Y=dataset.sepal_width.values\n",
    "X"
   ]
  },
  {
   "cell_type": "code",
   "execution_count": 12,
   "id": "a111c214",
   "metadata": {},
   "outputs": [
    {
     "data": {
      "text/plain": [
       "(150,)"
      ]
     },
     "execution_count": 12,
     "metadata": {},
     "output_type": "execute_result"
    }
   ],
   "source": [
    "X.shape"
   ]
  },
  {
   "cell_type": "code",
   "execution_count": 13,
   "id": "eb4f57d7",
   "metadata": {},
   "outputs": [],
   "source": [
    "x=dataset.petal_length.values.reshape(150,1)\n",
    "y=dataset.sepal_width.values.reshape(150,1)"
   ]
  },
  {
   "cell_type": "code",
   "execution_count": 14,
   "id": "0594ec56",
   "metadata": {},
   "outputs": [
    {
     "name": "stdout",
     "output_type": "stream",
     "text": [
      "(150, 1)\n",
      "(150, 1)\n",
      "[[3.5]\n",
      " [3. ]\n",
      " [3.2]\n",
      " [3.1]\n",
      " [3.6]\n",
      " [3.9]\n",
      " [3.4]\n",
      " [3.4]\n",
      " [2.9]\n",
      " [3.1]\n",
      " [3.7]\n",
      " [3.4]\n",
      " [3. ]\n",
      " [3. ]\n",
      " [4. ]\n",
      " [4.4]\n",
      " [3.9]\n",
      " [3.5]\n",
      " [3.8]\n",
      " [3.8]\n",
      " [3.4]\n",
      " [3.7]\n",
      " [3.6]\n",
      " [3.3]\n",
      " [3.4]\n",
      " [3. ]\n",
      " [3.4]\n",
      " [3.5]\n",
      " [3.4]\n",
      " [3.2]\n",
      " [3.1]\n",
      " [3.4]\n",
      " [4.1]\n",
      " [4.2]\n",
      " [3.1]\n",
      " [3.2]\n",
      " [3.5]\n",
      " [3.1]\n",
      " [3. ]\n",
      " [3.4]\n",
      " [3.5]\n",
      " [2.3]\n",
      " [3.2]\n",
      " [3.5]\n",
      " [3.8]\n",
      " [3. ]\n",
      " [3.8]\n",
      " [3.2]\n",
      " [3.7]\n",
      " [3.3]\n",
      " [3.2]\n",
      " [3.2]\n",
      " [3.1]\n",
      " [2.3]\n",
      " [2.8]\n",
      " [2.8]\n",
      " [3.3]\n",
      " [2.4]\n",
      " [2.9]\n",
      " [2.7]\n",
      " [2. ]\n",
      " [3. ]\n",
      " [2.2]\n",
      " [2.9]\n",
      " [2.9]\n",
      " [3.1]\n",
      " [3. ]\n",
      " [2.7]\n",
      " [2.2]\n",
      " [2.5]\n",
      " [3.2]\n",
      " [2.8]\n",
      " [2.5]\n",
      " [2.8]\n",
      " [2.9]\n",
      " [3. ]\n",
      " [2.8]\n",
      " [3. ]\n",
      " [2.9]\n",
      " [2.6]\n",
      " [2.4]\n",
      " [2.4]\n",
      " [2.7]\n",
      " [2.7]\n",
      " [3. ]\n",
      " [3.4]\n",
      " [3.1]\n",
      " [2.3]\n",
      " [3. ]\n",
      " [2.5]\n",
      " [2.6]\n",
      " [3. ]\n",
      " [2.6]\n",
      " [2.3]\n",
      " [2.7]\n",
      " [3. ]\n",
      " [2.9]\n",
      " [2.9]\n",
      " [2.5]\n",
      " [2.8]\n",
      " [3.3]\n",
      " [2.7]\n",
      " [3. ]\n",
      " [2.9]\n",
      " [3. ]\n",
      " [3. ]\n",
      " [2.5]\n",
      " [2.9]\n",
      " [2.5]\n",
      " [3.6]\n",
      " [3.2]\n",
      " [2.7]\n",
      " [3. ]\n",
      " [2.5]\n",
      " [2.8]\n",
      " [3.2]\n",
      " [3. ]\n",
      " [3.8]\n",
      " [2.6]\n",
      " [2.2]\n",
      " [3.2]\n",
      " [2.8]\n",
      " [2.8]\n",
      " [2.7]\n",
      " [3.3]\n",
      " [3.2]\n",
      " [2.8]\n",
      " [3. ]\n",
      " [2.8]\n",
      " [3. ]\n",
      " [2.8]\n",
      " [3.8]\n",
      " [2.8]\n",
      " [2.8]\n",
      " [2.6]\n",
      " [3. ]\n",
      " [3.4]\n",
      " [3.1]\n",
      " [3. ]\n",
      " [3.1]\n",
      " [3.1]\n",
      " [3.1]\n",
      " [2.7]\n",
      " [3.2]\n",
      " [3.3]\n",
      " [3. ]\n",
      " [2.5]\n",
      " [3. ]\n",
      " [3.4]\n",
      " [3. ]]\n"
     ]
    }
   ],
   "source": [
    "print(x.shape)\n",
    "print(y.shape)\n",
    "print(y)"
   ]
  },
  {
   "cell_type": "markdown",
   "id": "187f5058",
   "metadata": {},
   "source": [
    "Création de la matrice X qui contient la colonne de Biais. Pour ca, on colle l'un contre l'autre le vecteur x et un vecteur 1 (avec np.ones) de dimension égale a celle de x"
   ]
  },
  {
   "cell_type": "code",
   "execution_count": 15,
   "id": "e8b25651",
   "metadata": {},
   "outputs": [],
   "source": [
    "X = np.hstack((x, np.ones(x.shape)))\n",
    "X = np.hstack((x**2, X))\n",
    "X = np.hstack((x**3, X))\n",
    "\n"
   ]
  },
  {
   "cell_type": "code",
   "execution_count": 16,
   "id": "d1c71f2d",
   "metadata": {},
   "outputs": [
    {
     "name": "stdout",
     "output_type": "stream",
     "text": [
      "[[2.744 1.96  1.4   1.   ]\n",
      " [2.744 1.96  1.4   1.   ]\n",
      " [2.197 1.69  1.3   1.   ]\n",
      " [3.375 2.25  1.5   1.   ]\n",
      " [2.744 1.96  1.4   1.   ]\n",
      " [4.913 2.89  1.7   1.   ]\n",
      " [2.744 1.96  1.4   1.   ]\n",
      " [3.375 2.25  1.5   1.   ]\n",
      " [2.744 1.96  1.4   1.   ]\n",
      " [3.375 2.25  1.5   1.   ]]\n"
     ]
    }
   ],
   "source": [
    "X.shape\n",
    "print(X[:10])"
   ]
  },
  {
   "cell_type": "markdown",
   "id": "1f5703e5",
   "metadata": {},
   "source": [
    "Finalement, création d'un vecteur parametre θ, initialisé avec des coefficients aléatoires. Ce vecteur est de dimension (2, 1). Si on désire toujours reproduire le meme vecteur \n",
    "θ, on utilise comme avant np.random.seed(0)"
   ]
  },
  {
   "cell_type": "code",
   "execution_count": 17,
   "id": "e45f2b9a",
   "metadata": {},
   "outputs": [
    {
     "name": "stdout",
     "output_type": "stream",
     "text": [
      "Theta: [[1.76405235]\n",
      " [0.40015721]\n",
      " [0.97873798]\n",
      " [2.2408932 ]]\n"
     ]
    }
   ],
   "source": [
    "np.random.seed(0) # pour produire toujours le meme vecteur theta aléatoire\n",
    "theta=np.random.randn(4,1)\n",
    "print('Theta:',theta)"
   ]
  },
  {
   "cell_type": "markdown",
   "id": "41a0e7d5",
   "metadata": {},
   "source": [
    "## 2. Modèle Linéaire\n",
    "On implémente un modèle selon l'équation matricielle F=X.θ et puis on teste le modèle initiale défini par la valeur initiale de θ qu'on a initialisé d'une manière aléatoire.\n"
   ]
  },
  {
   "cell_type": "code",
   "execution_count": 18,
   "id": "bc06c159",
   "metadata": {},
   "outputs": [],
   "source": [
    "def model(X, theta):\n",
    "    return X.dot(theta)"
   ]
  },
  {
   "cell_type": "code",
   "execution_count": 19,
   "id": "f4259e47",
   "metadata": {},
   "outputs": [
    {
     "name": "stdout",
     "output_type": "stream",
     "text": [
      "[[  9.23599414]\n",
      " [  9.23599414]\n",
      " [  8.06514126]\n",
      " [ 10.56303056]\n",
      " [  9.23599414]\n",
      " [ 13.72799128]\n",
      " [  9.23599414]\n",
      " [ 10.56303056]\n",
      " [  9.23599414]\n",
      " [ 10.56303056]\n",
      " [ 10.56303056]\n",
      " [ 12.05683484]\n",
      " [  9.23599414]\n",
      " [  6.14964888]\n",
      " [  7.03988761]\n",
      " [ 10.56303056]\n",
      " [  8.06514126]\n",
      " [  9.23599414]\n",
      " [ 13.72799128]\n",
      " [ 10.56303056]\n",
      " [ 13.72799128]\n",
      " [ 10.56303056]\n",
      " [  5.38384074]\n",
      " [ 13.72799128]\n",
      " [ 17.64469793]\n",
      " [ 12.05683484]\n",
      " [ 12.05683484]\n",
      " [ 10.56303056]\n",
      " [  9.23599414]\n",
      " [ 12.05683484]\n",
      " [ 12.05683484]\n",
      " [ 10.56303056]\n",
      " [ 10.56303056]\n",
      " [  9.23599414]\n",
      " [ 10.56303056]\n",
      " [  7.03988761]\n",
      " [  8.06514126]\n",
      " [ 10.56303056]\n",
      " [  8.06514126]\n",
      " [ 10.56303056]\n",
      " [  8.06514126]\n",
      " [  8.06514126]\n",
      " [  8.06514126]\n",
      " [ 12.05683484]\n",
      " [ 17.64469793]\n",
      " [  9.23599414]\n",
      " [ 12.05683484]\n",
      " [  9.23599414]\n",
      " [ 10.56303056]\n",
      " [  9.23599414]\n",
      " [198.82964117]\n",
      " [175.49766762]\n",
      " [224.18347834]\n",
      " [125.45771061]\n",
      " [186.9162136 ]\n",
      " [175.49766762]\n",
      " [198.82964117]\n",
      " [ 73.2231897 ]\n",
      " [186.9162136 ]\n",
      " [116.78618359]\n",
      " [ 86.20214628]\n",
      " [144.1054761 ]\n",
      " [125.45771061]\n",
      " [198.82964117]\n",
      " [ 93.25401362]\n",
      " [164.56341892]\n",
      " [175.49766762]\n",
      " [134.56061334]\n",
      " [175.49766762]\n",
      " [116.78618359]\n",
      " [211.24853465]\n",
      " [125.45771061]\n",
      " [224.18347834]\n",
      " [198.82964117]\n",
      " [154.10288318]\n",
      " [164.56341892]\n",
      " [211.24853465]\n",
      " [237.64505657]\n",
      " [175.49766762]\n",
      " [ 86.20214628]\n",
      " [108.53544796]\n",
      " [100.6949194 ]\n",
      " [116.78618359]\n",
      " [251.64385365]\n",
      " [175.49766762]\n",
      " [175.49766762]\n",
      " [198.82964117]\n",
      " [164.56341892]\n",
      " [134.56061334]\n",
      " [125.45771061]\n",
      " [164.56341892]\n",
      " [186.9162136 ]\n",
      " [125.45771061]\n",
      " [ 73.2231897 ]\n",
      " [144.1054761 ]\n",
      " [144.1054761 ]\n",
      " [144.1054761 ]\n",
      " [154.10288318]\n",
      " [ 56.40793537]\n",
      " [134.56061334]\n",
      " [403.55428733]\n",
      " [251.64385365]\n",
      " [384.24422649]\n",
      " [330.06657275]\n",
      " [365.56664332]\n",
      " [533.28940515]\n",
      " [175.49766762]\n",
      " [465.38517905]\n",
      " [365.56664332]\n",
      " [423.50741017]\n",
      " [251.64385365]\n",
      " [281.29544161]\n",
      " [313.22291673]\n",
      " [237.64505657]\n",
      " [251.64385365]\n",
      " [281.29544161]\n",
      " [313.22291673]\n",
      " [557.32317051]\n",
      " [607.5527421 ]\n",
      " [237.64505657]\n",
      " [347.51095352]\n",
      " [224.18347834]\n",
      " [557.32317051]\n",
      " [224.18347834]\n",
      " [347.51095352]\n",
      " [403.55428733]\n",
      " [211.24853465]\n",
      " [224.18347834]\n",
      " [330.06657275]\n",
      " [365.56664332]\n",
      " [423.50741017]\n",
      " [487.33099373]\n",
      " [330.06657275]\n",
      " [251.64385365]\n",
      " [330.06657275]\n",
      " [423.50741017]\n",
      " [330.06657275]\n",
      " [313.22291673]\n",
      " [211.24853465]\n",
      " [296.96940111]\n",
      " [330.06657275]\n",
      " [251.64385365]\n",
      " [251.64385365]\n",
      " [384.24422649]\n",
      " [347.51095352]\n",
      " [266.19045389]\n",
      " [237.64505657]\n",
      " [266.19045389]\n",
      " [296.96940111]\n",
      " [251.64385365]]\n"
     ]
    }
   ],
   "source": [
    "print(model(X, theta))"
   ]
  },
  {
   "cell_type": "code",
   "execution_count": 20,
   "id": "0e86cdd4",
   "metadata": {},
   "outputs": [
    {
     "data": {
      "image/png": "[encoded data removed]",
      "text/plain": [
       "<Figure size 640x480 with 1 Axes>"
      ]
     },
     "metadata": {},
     "output_type": "display_data"
    }
   ],
   "source": [
    "\n",
    "plt.plot(x,y,'o',label='dataset')\n",
    "#plt.plot(dataset[\"sepal_width\"],dataset[\"petal_length\"],'o',label='dataset')\n",
    "plt.plot(x, model(X, theta),'o',c='r',label='modèle initial')\n",
    "plt.xlabel('petal_length')\n",
    "plt.ylabel('sepal_width')\n",
    "#plt.xlim(0, 5)\n",
    "#plt.ylim(0, 7)\n",
    "plt.legend()\n",
    "plt.show()"
   ]
  },
  {
   "attachments": {
    "Capture%20d'%C3%A9cran%202023-04-04%20113116.png": {
     "image/png": "[encoded data removed]"
    }
   },
   "cell_type": "markdown",
   "id": "4f8ef408",
   "metadata": {},
   "source": [
    "## 3. Fonction coût : Erreur Quadratique Moyenne\n",
    "On mesure les erreurs du modele sur le Dataset X, y en implémenterl'erreur quadratique moyenne, Mean Squared Error (MSE) en anglais.\n",
    "![Capture%20d'%C3%A9cran%202023-04-04%20113116.png](attachment:Capture%20d'%C3%A9cran%202023-04-04%20113116.png)\n",
    "\n",
    "Ensuite, on teste notre fonction, pour voir s'il n'y a pas de bug"
   ]
  },
  {
   "cell_type": "code",
   "execution_count": 21,
   "id": "3bfb4285",
   "metadata": {},
   "outputs": [],
   "source": [
    "def cost_function(X, y, theta):\n",
    "    m = len(y)\n",
    "    return 1/(2*m) * np.sum((model(X, theta) - y)**2)"
   ]
  },
  {
   "cell_type": "code",
   "execution_count": 22,
   "id": "ec4ef451",
   "metadata": {},
   "outputs": [
    {
     "data": {
      "text/plain": [
       "23730.126655428096"
      ]
     },
     "execution_count": 22,
     "metadata": {},
     "output_type": "execute_result"
    }
   ],
   "source": [
    "cost_function(X, y, theta)"
   ]
  },
  {
   "attachments": {
    "grad.png": {
     "image/png": "[encoded data removed]"
    }
   },
   "cell_type": "markdown",
   "id": "e1af8e71",
   "metadata": {},
   "source": [
    "## 4. Gradients et Descente de Gradient\n",
    "On implémente la formule du gradient pour la MSE\n",
    "![grad.png](attachment:grad.png)\n",
    "Ensuite on utilise cette fonction dans la descente de gradient:\n",
    "\n"
   ]
  },
  {
   "attachments": {
    "Capture%20d'%C3%A9cran%202023-04-04%20114408.png": {
     "image/png": "[encoded data removed]"
    }
   },
   "cell_type": "markdown",
   "id": "527094e1",
   "metadata": {},
   "source": [
    "![Capture%20d'%C3%A9cran%202023-04-04%20114408.png](attachment:Capture%20d'%C3%A9cran%202023-04-04%20114408.png)"
   ]
  },
  {
   "cell_type": "code",
   "execution_count": 23,
   "id": "bc48ccbb",
   "metadata": {},
   "outputs": [],
   "source": [
    "def grad(X, y, theta):\n",
    "    m = len(y)\n",
    "    return 1/m * X.T.dot(model(X, theta) - y)"
   ]
  },
  {
   "cell_type": "code",
   "execution_count": 24,
   "id": "dcda7267",
   "metadata": {},
   "outputs": [],
   "source": [
    "def gradient_descent(X, y, theta, learning_rate, n_iterations):\n",
    "    \n",
    "    cost_history = np.zeros(n_iterations) # création d'un tableau de stockage pour enregistrer l'évolution du Cout du modele\n",
    "    \n",
    "    for i in range(0, n_iterations):\n",
    "        theta = theta - learning_rate * grad(X, y, theta) # mise a jour du parametre theta (formule du gradient descent)\n",
    "        cost_history[i] = cost_function(X, y, theta) # on enregistre la valeur du Cout au tour i dans cost_history[i]\n",
    "        \n",
    "    return theta, cost_history"
   ]
  },
  {
   "cell_type": "markdown",
   "id": "42add5a3",
   "metadata": {},
   "source": [
    "## 5. Phase d'entrainement\n",
    "On définit un nombre d'itérations, ainsi qu'un pas d'apprentissage α. Une fois le modele entrainé, on observe les resultats par rapport a notre Dataset"
   ]
  },
  {
   "cell_type": "code",
   "execution_count": 25,
   "id": "1b30eb6b",
   "metadata": {},
   "outputs": [],
   "source": [
    "n_iterations = 3999591\n",
    "learning_rate = 0.0001398\n",
    "\n",
    "theta_final, cost_history = gradient_descent(X, y, theta, learning_rate, n_iterations)"
   ]
  },
  {
   "cell_type": "code",
   "execution_count": 26,
   "id": "ed0729ba",
   "metadata": {},
   "outputs": [
    {
     "data": {
      "text/plain": [
       "array([2.24717930e+04, 2.12801868e+04, 2.01517696e+04, ...,\n",
       "       5.86923680e-02, 5.86923673e-02, 5.86923666e-02])"
      ]
     },
     "execution_count": 26,
     "metadata": {},
     "output_type": "execute_result"
    }
   ],
   "source": [
    "cost_history # l'historique de la fonction coût qu'on va afficher par la suite. on remarque que sa valeur déminue et c'est ça l'objectif"
   ]
  },
  {
   "cell_type": "code",
   "execution_count": 27,
   "id": "71ae7b0a",
   "metadata": {},
   "outputs": [
    {
     "data": {
      "text/plain": [
       "array([[ 2.15629499e-03],\n",
       "       [ 5.45406734e-02],\n",
       "       [-5.75332508e-01],\n",
       "       [ 4.08923131e+00]])"
      ]
     },
     "execution_count": 27,
     "metadata": {},
     "output_type": "execute_result"
    }
   ],
   "source": [
    "theta_final # voici les parametres du modele une fois que la machine a été entrainée"
   ]
  },
  {
   "cell_type": "code",
   "execution_count": 28,
   "id": "606bfc53",
   "metadata": {},
   "outputs": [
    {
     "data": {
      "image/png": "[encoded data removed]",
      "text/plain": [
       "<Figure size 640x480 with 1 Axes>"
      ]
     },
     "metadata": {},
     "output_type": "display_data"
    }
   ],
   "source": [
    "# création d'un vecteur prédictions qui contient les prédictions de notre modele final\n",
    "predictions = model(X, theta_final)\n",
    "\n",
    "# Affichage des résultats de prédictions (en rouge) par rapport a notre Dataset (en bleu)\n",
    "plt.plot(x,y,'o',label='dataset')\n",
    "plt.plot(x,predictions ,'o',c='r',label='prédictions')\n",
    "plt.xlabel('petal_length')\n",
    "plt.ylabel('sepal_width')\n",
    "plt.legend()\n",
    "plt.show()"
   ]
  },
  {
   "cell_type": "code",
   "execution_count": 29,
   "id": "676bedbd",
   "metadata": {},
   "outputs": [
    {
     "data": {
      "text/plain": [
       "array([[3.39658239],\n",
       "       [3.39658239],\n",
       "       [3.43821017],\n",
       "       [3.35622656],\n",
       "       [3.39658239],\n",
       "       [3.27938247],\n",
       "       [3.39658239],\n",
       "       [3.35622656],\n",
       "       [3.39658239],\n",
       "       [3.35622656],\n",
       "       [3.35622656],\n",
       "       [3.3171556 ],\n",
       "       [3.39658239],\n",
       "       [3.52522979],\n",
       "       [3.48109695],\n",
       "       [3.35622656],\n",
       "       [3.43821017],\n",
       "       [3.39658239],\n",
       "       [3.27938247],\n",
       "       [3.35622656],\n",
       "       [3.27938247],\n",
       "       [3.35622656],\n",
       "       [3.57059577],\n",
       "       [3.27938247],\n",
       "       [3.2077814 ],\n",
       "       [3.3171556 ],\n",
       "       [3.3171556 ],\n",
       "       [3.35622656],\n",
       "       [3.39658239],\n",
       "       [3.3171556 ],\n",
       "       [3.3171556 ],\n",
       "       [3.35622656],\n",
       "       [3.35622656],\n",
       "       [3.39658239],\n",
       "       [3.35622656],\n",
       "       [3.48109695],\n",
       "       [3.43821017],\n",
       "       [3.35622656],\n",
       "       [3.43821017],\n",
       "       [3.35622656],\n",
       "       [3.43821017],\n",
       "       [3.43821017],\n",
       "       [3.43821017],\n",
       "       [3.3171556 ],\n",
       "       [3.2077814 ],\n",
       "       [3.39658239],\n",
       "       [3.3171556 ],\n",
       "       [3.39658239],\n",
       "       [3.35622656],\n",
       "       [3.39658239],\n",
       "       [2.81384501],\n",
       "       [2.80117604],\n",
       "       [2.83330954],\n",
       "       [2.79855493],\n",
       "       [2.80666755],\n",
       "       [2.80117604],\n",
       "       [2.81384501],\n",
       "       [2.86207274],\n",
       "       [2.80666755],\n",
       "       [2.80290743],\n",
       "       [2.83614193],\n",
       "       [2.79468784],\n",
       "       [2.79855493],\n",
       "       [2.81384501],\n",
       "       [2.82548551],\n",
       "       [2.79735754],\n",
       "       [2.80117604],\n",
       "       [2.79581075],\n",
       "       [2.80117604],\n",
       "       [2.80290743],\n",
       "       [2.82272136],\n",
       "       [2.79855493],\n",
       "       [2.83330954],\n",
       "       [2.81384501],\n",
       "       [2.79519912],\n",
       "       [2.79735754],\n",
       "       [2.82272136],\n",
       "       [2.84562248],\n",
       "       [2.80117604],\n",
       "       [2.83614193],\n",
       "       [2.80885532],\n",
       "       [2.81638566],\n",
       "       [2.80290743],\n",
       "       [2.85967312],\n",
       "       [2.80117604],\n",
       "       [2.80117604],\n",
       "       [2.81384501],\n",
       "       [2.79735754],\n",
       "       [2.79581075],\n",
       "       [2.79855493],\n",
       "       [2.79735754],\n",
       "       [2.80666755],\n",
       "       [2.79855493],\n",
       "       [2.86207274],\n",
       "       [2.79468784],\n",
       "       [2.79468784],\n",
       "       [2.79468784],\n",
       "       [2.79519912],\n",
       "       [2.91231981],\n",
       "       [2.79581075],\n",
       "       [3.06646022],\n",
       "       [2.85967312],\n",
       "       [3.03618806],\n",
       "       [2.95644468],\n",
       "       [3.00777004],\n",
       "       [3.28775467],\n",
       "       [2.80117604],\n",
       "       [3.16853093],\n",
       "       [3.00777004],\n",
       "       [3.09859946],\n",
       "       [2.85967312],\n",
       "       [2.89303926],\n",
       "       [2.93351146],\n",
       "       [2.84562248],\n",
       "       [2.85967312],\n",
       "       [2.89303926],\n",
       "       [2.93351146],\n",
       "       [3.33136808],\n",
       "       [3.42448077],\n",
       "       [2.84562248],\n",
       "       [2.98119323],\n",
       "       [2.83330954],\n",
       "       [3.33136808],\n",
       "       [2.83330954],\n",
       "       [2.98119323],\n",
       "       [3.06646022],\n",
       "       [2.82272136],\n",
       "       [2.83330954],\n",
       "       [2.95644468],\n",
       "       [3.00777004],\n",
       "       [3.09859946],\n",
       "       [3.20634903],\n",
       "       [2.95644468],\n",
       "       [2.85967312],\n",
       "       [2.95644468],\n",
       "       [3.09859946],\n",
       "       [2.95644468],\n",
       "       [2.93351146],\n",
       "       [2.82272136],\n",
       "       [2.91238064],\n",
       "       [2.95644468],\n",
       "       [2.85967312],\n",
       "       [2.85967312],\n",
       "       [3.03618806],\n",
       "       [2.98119323],\n",
       "       [2.8754744 ],\n",
       "       [2.84562248],\n",
       "       [2.8754744 ],\n",
       "       [2.91238064],\n",
       "       [2.85967312]])"
      ]
     },
     "execution_count": 29,
     "metadata": {},
     "output_type": "execute_result"
    }
   ],
   "source": [
    "predictions"
   ]
  },
  {
   "cell_type": "code",
   "execution_count": 30,
   "id": "415ab0a8",
   "metadata": {},
   "outputs": [
    {
     "name": "stdout",
     "output_type": "stream",
     "text": [
      "[2.49172179]\n"
     ]
    }
   ],
   "source": [
    "# Test: # prédire la largeur d'un pétale qui a une longueur de 2,5 cm\n",
    "X_2_5= np.array([9,2,3,1])\n",
    "pred_y_2_5=model(X_2_5, theta_final) \n",
    "print(pred_y_2_5)"
   ]
  },
  {
   "cell_type": "markdown",
   "id": "3d087de6",
   "metadata": {},
   "source": [
    "## 6. Courbe d'apprentissage\n",
    "\n",
    "   Pour vérifier si notre algorithme de Descente de gradient a bien fonctionné, on observe l'évolution de la fonction cout a travers les itérations. On est sensé obtenir une courbe qui diminue a chaque itération jusqu'a stagner a un niveau minimal (proche de zéro). Si la courbe ne suit pas ce motif, alors le pas learning_rate est peut-etre trop élevé, il faut prendre un pas plus faible."
   ]
  },
  {
   "cell_type": "code",
   "execution_count": 31,
   "id": "519d3dbd",
   "metadata": {},
   "outputs": [
    {
     "data": {
      "image/png": "[encoded data removed]",
      "text/plain": [
       "<Figure size 640x480 with 1 Axes>"
      ]
     },
     "metadata": {},
     "output_type": "display_data"
    }
   ],
   "source": [
    "plt.plot(range(n_iterations), cost_history)\n",
    "plt.show()"
   ]
  },
  {
   "cell_type": "markdown",
   "id": "eb5cab7c",
   "metadata": {},
   "source": [
    "## 7. Evaluation du modèle - Coefficient de détermination\n",
    "\n",
    "   Le coefficient de détermination est un indice de la qualité de la prédiction de la régression linéaire. Le coefficient de détermination se situe entre 0 et 1. Plus il est proche de 1, plus la régression linéaire est en adéquation avec les données collectées\n",
    "  "
   ]
  },
  {
   "attachments": {
    "Capture%20d'%C3%A9cran%202023-04-04%20123236.png": {
     "image/png": "[encoded data removed]"
    }
   },
   "cell_type": "markdown",
   "id": "cc10bb18",
   "metadata": {},
   "source": [
    "![Capture%20d'%C3%A9cran%202023-04-04%20123236.png](attachment:Capture%20d'%C3%A9cran%202023-04-04%20123236.png)"
   ]
  },
  {
   "cell_type": "code",
   "execution_count": 32,
   "id": "ea8f0458",
   "metadata": {},
   "outputs": [],
   "source": [
    "def coef_determination(y, pred):\n",
    "    u = ((y - pred)**2).sum()\n",
    "    v = ((y - y.mean())**2).sum()\n",
    "    return 1 - u/v"
   ]
  },
  {
   "cell_type": "code",
   "execution_count": 33,
   "id": "406b1dfe",
   "metadata": {},
   "outputs": [
    {
     "data": {
      "text/plain": [
       "0.37143606912101046"
      ]
     },
     "execution_count": 33,
     "metadata": {},
     "output_type": "execute_result"
    }
   ],
   "source": [
    "coef_determination(y, predictions)"
   ]
  },
  {
   "cell_type": "code",
   "execution_count": 34,
   "id": "84d1f8e1",
   "metadata": {},
   "outputs": [
    {
     "name": "stdout",
     "output_type": "stream",
     "text": [
      "<class 'pandas.core.frame.DataFrame'>\n",
      "RangeIndex: 150 entries, 0 to 149\n",
      "Data columns (total 5 columns):\n",
      " #   Column        Non-Null Count  Dtype  \n",
      "---  ------        --------------  -----  \n",
      " 0   sepal_length  150 non-null    float64\n",
      " 1   sepal_width   150 non-null    float64\n",
      " 2   petal_length  150 non-null    float64\n",
      " 3   petal_width   150 non-null    float64\n",
      " 4   class         150 non-null    object \n",
      "dtypes: float64(4), object(1)\n",
      "memory usage: 6.0+ KB\n"
     ]
    }
   ],
   "source": [
    "dataset.info()"
   ]
  },
  {
   "cell_type": "raw",
   "id": "1ad50ce5",
   "metadata": {},
   "source": []
  },
  {
   "cell_type": "code",
   "execution_count": null,
   "id": "c69f184d",
   "metadata": {},
   "outputs": [],
   "source": []
  },
  {
   "cell_type": "code",
   "execution_count": null,
   "id": "4998a8ef",
   "metadata": {},
   "outputs": [],
   "source": []
  },
  {
   "cell_type": "code",
   "execution_count": null,
   "id": "b492fffd",
   "metadata": {},
   "outputs": [],
   "source": []
  },
  {
   "cell_type": "code",
   "execution_count": null,
   "id": "e7d8a7e7",
   "metadata": {},
   "outputs": [],
   "source": []
  },
  {
   "cell_type": "code",
   "execution_count": null,
   "id": "02b3c93b",
   "metadata": {},
   "outputs": [],
   "source": []
  },
  {
   "cell_type": "code",
   "execution_count": null,
   "id": "2ebe9121",
   "metadata": {},
   "outputs": [],
   "source": []
  },
  {
   "cell_type": "code",
   "execution_count": null,
   "id": "b64548e7",
   "metadata": {},
   "outputs": [],
   "source": []
  },
  {
   "cell_type": "code",
   "execution_count": null,
   "id": "983b3bc4",
   "metadata": {},
   "outputs": [],
   "source": []
  },
  {
   "cell_type": "code",
   "execution_count": null,
   "id": "165b8d51",
   "metadata": {},
   "outputs": [],
   "source": []
  }
 ],
 "metadata": {
  "kernelspec": {
   "display_name": "Python 3 (ipykernel)",
   "language": "python",
   "name": "python3"
  },
  "language_info": {
   "codemirror_mode": {
    "name": "ipython",
    "version": 3
   },
   "file_extension": ".py",
   "mimetype": "text/x-python",
   "name": "python",
   "nbconvert_exporter": "python",
   "pygments_lexer": "ipython3",
   "version": "3.11.5"
  }
 },
 "nbformat": 4,
 "nbformat_minor": 5
}
